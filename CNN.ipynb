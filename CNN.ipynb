{
 "cells": [
  {
   "cell_type": "markdown",
   "id": "31dd0316",
   "metadata": {},
   "source": [
    "# Convolutional Neural Network"
   ]
  },
  {
   "cell_type": "markdown",
   "id": "f3ffe353",
   "metadata": {},
   "source": [
    "## Importing the libraries"
   ]
  },
  {
   "cell_type": "code",
   "execution_count": 1,
   "id": "a4e968eb",
   "metadata": {},
   "outputs": [],
   "source": [
    "import tensorflow as tf\n",
    "from keras.preprocessing.image import ImageDataGenerator"
   ]
  },
  {
   "cell_type": "code",
   "execution_count": 2,
   "id": "cf78dbf7",
   "metadata": {},
   "outputs": [
    {
     "data": {
      "text/plain": [
       "'2.9.1'"
      ]
     },
     "execution_count": 2,
     "metadata": {},
     "output_type": "execute_result"
    }
   ],
   "source": [
    "tf.__version__"
   ]
  },
  {
   "cell_type": "markdown",
   "id": "4c5cd186",
   "metadata": {},
   "source": [
    "## Part 1 - Data Preprocessing"
   ]
  },
  {
   "cell_type": "markdown",
   "id": "fd86cd77",
   "metadata": {},
   "source": [
    "### Preprocessing the Training set"
   ]
  },
  {
   "cell_type": "code",
   "execution_count": 3,
   "id": "9ff4b830",
   "metadata": {},
   "outputs": [
    {
     "name": "stdout",
     "output_type": "stream",
     "text": [
      "Found 8000 images belonging to 2 classes.\n"
     ]
    }
   ],
   "source": [
    "train_datagen = ImageDataGenerator(rescale = 1./255,\n",
    "                                   shear_range = 0.2,\n",
    "                                   zoom_range = 0.2,\n",
    "                                   horizontal_flip = True)\n",
    "training_set = train_datagen.flow_from_directory('C:/Users/muska/Downloads/CNN Dataset/training_set',\n",
    "                                                 target_size = (64, 64),\n",
    "                                                 batch_size = 32,\n",
    "                                                 class_mode = 'binary')"
   ]
  },
  {
   "cell_type": "markdown",
   "id": "f358f4ae",
   "metadata": {},
   "source": [
    "For the purpose of animal classification, a training set containing cat and dog pictures was taken."
   ]
  },
  {
   "cell_type": "markdown",
   "id": "1184270b",
   "metadata": {},
   "source": [
    "### Preprocessing the Test set\n",
    " "
   ]
  },
  {
   "cell_type": "code",
   "execution_count": 4,
   "id": "d9ca4729",
   "metadata": {
    "scrolled": true
   },
   "outputs": [
    {
     "name": "stdout",
     "output_type": "stream",
     "text": [
      "Found 2000 images belonging to 2 classes.\n"
     ]
    }
   ],
   "source": [
    "test_datagen = ImageDataGenerator(rescale = 1./255)\n",
    "test_set = test_datagen.flow_from_directory('C:/Users/muska/Downloads/CNN Dataset/test_set',\n",
    "                                            target_size = (64, 64),\n",
    "                                            batch_size = 32,\n",
    "                                            class_mode = 'binary')"
   ]
  },
  {
   "cell_type": "markdown",
   "id": "33294cbe",
   "metadata": {},
   "source": [
    "The test set was presented in which the 2000 images were beloning to 2 classes. "
   ]
  },
  {
   "cell_type": "markdown",
   "id": "1685c74d",
   "metadata": {},
   "source": [
    "## Part 2 - Building the CNN "
   ]
  },
  {
   "cell_type": "markdown",
   "id": "e5ae8f22",
   "metadata": {},
   "source": [
    "### Initialising the CNN "
   ]
  },
  {
   "cell_type": "code",
   "execution_count": 5,
   "id": "fb4e44d7",
   "metadata": {},
   "outputs": [],
   "source": [
    "cnn = tf.keras.models.Sequential()"
   ]
  },
  {
   "cell_type": "markdown",
   "id": "507997be",
   "metadata": {},
   "source": [
    "#### Step 1 - Convolution"
   ]
  },
  {
   "cell_type": "code",
   "execution_count": 6,
   "id": "2197b36c",
   "metadata": {},
   "outputs": [],
   "source": [
    "cnn.add(tf.keras.layers.Conv2D(filters=32, kernel_size=3, activation='relu', input_shape=[64, 64, 3]))"
   ]
  },
  {
   "cell_type": "markdown",
   "id": "8f8c8619",
   "metadata": {},
   "source": [
    "To detect the animal in the picture the 1st convolutional layer was built to detect edges and curves in the picture.  "
   ]
  },
  {
   "cell_type": "markdown",
   "id": "2715d55f",
   "metadata": {},
   "source": [
    "#### Step 2 - Pooling "
   ]
  },
  {
   "cell_type": "code",
   "execution_count": 7,
   "id": "de11ce0a",
   "metadata": {},
   "outputs": [],
   "source": [
    "cnn.add(tf.keras.layers.MaxPool2D(pool_size=2, strides=2))"
   ]
  },
  {
   "cell_type": "markdown",
   "id": "a7150170",
   "metadata": {},
   "source": [
    "Max pooling was done to focus on the features with values making the maximum impact in the image"
   ]
  },
  {
   "cell_type": "markdown",
   "id": "77eed1fa",
   "metadata": {},
   "source": [
    "#### Adding a second convolutional layer"
   ]
  },
  {
   "cell_type": "code",
   "execution_count": 8,
   "id": "bdbe6be2",
   "metadata": {},
   "outputs": [],
   "source": [
    "cnn.add(tf.keras.layers.Conv2D(filters=32, kernel_size=3, activation='relu'))\n",
    "cnn.add(tf.keras.layers.MaxPool2D(pool_size=2, strides=2))"
   ]
  },
  {
   "cell_type": "markdown",
   "id": "04e1736b",
   "metadata": {},
   "source": [
    "To extract more features from the centre and extra information another convolutional layer was added. "
   ]
  },
  {
   "cell_type": "markdown",
   "id": "b55a0703",
   "metadata": {},
   "source": [
    "#### Step 3 - Flattening"
   ]
  },
  {
   "cell_type": "code",
   "execution_count": 9,
   "id": "35c5ee0c",
   "metadata": {},
   "outputs": [],
   "source": [
    "cnn.add(tf.keras.layers.Flatten())"
   ]
  },
  {
   "cell_type": "markdown",
   "id": "fe18f581",
   "metadata": {},
   "source": [
    "Conversion of Matrix in the vector form is done."
   ]
  },
  {
   "cell_type": "markdown",
   "id": "74d592e8",
   "metadata": {},
   "source": [
    "#### Step 4 - Full Connection "
   ]
  },
  {
   "cell_type": "code",
   "execution_count": 10,
   "id": "ba65c82f",
   "metadata": {},
   "outputs": [],
   "source": [
    "cnn.add(tf.keras.layers.Dense(units=128, activation='relu'))"
   ]
  },
  {
   "cell_type": "markdown",
   "id": "2950dd3a",
   "metadata": {},
   "source": [
    "The vector is now fully connected."
   ]
  },
  {
   "cell_type": "markdown",
   "id": "0d797d5f",
   "metadata": {},
   "source": [
    "#### Step 5 - Output Layer"
   ]
  },
  {
   "cell_type": "code",
   "execution_count": 11,
   "id": "500fec2f",
   "metadata": {},
   "outputs": [],
   "source": [
    "cnn.add(tf.keras.layers.Dense(units=1, activation='sigmoid'))"
   ]
  },
  {
   "cell_type": "markdown",
   "id": "c64780f4",
   "metadata": {},
   "source": [
    "## Part 3 - Training the CNN"
   ]
  },
  {
   "cell_type": "markdown",
   "id": "74910085",
   "metadata": {},
   "source": [
    "### Compiling the CNN "
   ]
  },
  {
   "cell_type": "code",
   "execution_count": 12,
   "id": "36da3373",
   "metadata": {},
   "outputs": [],
   "source": [
    "cnn.compile(optimizer = 'adam', loss = 'binary_crossentropy', metrics = ['accuracy'])"
   ]
  },
  {
   "cell_type": "markdown",
   "id": "12cd74f2",
   "metadata": {},
   "source": [
    "### Training the CNN on the Training set and evaluating it on the Test set "
   ]
  },
  {
   "cell_type": "code",
   "execution_count": 13,
   "id": "b079ac13",
   "metadata": {},
   "outputs": [
    {
     "name": "stdout",
     "output_type": "stream",
     "text": [
      "Epoch 1/25\n",
      "250/250 [==============================] - 80s 315ms/step - loss: 0.6724 - accuracy: 0.5760 - val_loss: 0.6535 - val_accuracy: 0.6105\n",
      "Epoch 2/25\n",
      "250/250 [==============================] - 67s 266ms/step - loss: 0.6076 - accuracy: 0.6718 - val_loss: 0.5727 - val_accuracy: 0.7020\n",
      "Epoch 3/25\n",
      "250/250 [==============================] - 66s 265ms/step - loss: 0.5718 - accuracy: 0.6976 - val_loss: 0.5690 - val_accuracy: 0.7015\n",
      "Epoch 4/25\n",
      "250/250 [==============================] - 67s 267ms/step - loss: 0.5386 - accuracy: 0.7334 - val_loss: 0.5334 - val_accuracy: 0.7325\n",
      "Epoch 5/25\n",
      "250/250 [==============================] - 67s 270ms/step - loss: 0.5121 - accuracy: 0.7471 - val_loss: 0.5440 - val_accuracy: 0.7385\n",
      "Epoch 6/25\n",
      "250/250 [==============================] - 66s 265ms/step - loss: 0.4926 - accuracy: 0.7617 - val_loss: 0.5296 - val_accuracy: 0.7410\n",
      "Epoch 7/25\n",
      "250/250 [==============================] - 71s 283ms/step - loss: 0.4769 - accuracy: 0.7735 - val_loss: 0.5008 - val_accuracy: 0.7575\n",
      "Epoch 8/25\n",
      "250/250 [==============================] - 72s 288ms/step - loss: 0.4599 - accuracy: 0.7781 - val_loss: 0.4710 - val_accuracy: 0.7810\n",
      "Epoch 9/25\n",
      "250/250 [==============================] - 76s 305ms/step - loss: 0.4406 - accuracy: 0.7908 - val_loss: 0.4836 - val_accuracy: 0.7785\n",
      "Epoch 10/25\n",
      "250/250 [==============================] - 72s 289ms/step - loss: 0.4285 - accuracy: 0.8019 - val_loss: 0.4846 - val_accuracy: 0.7740\n",
      "Epoch 11/25\n",
      "250/250 [==============================] - 76s 302ms/step - loss: 0.4156 - accuracy: 0.8114 - val_loss: 0.4427 - val_accuracy: 0.7925\n",
      "Epoch 12/25\n",
      "250/250 [==============================] - 78s 311ms/step - loss: 0.4065 - accuracy: 0.8120 - val_loss: 0.4564 - val_accuracy: 0.7950\n",
      "Epoch 13/25\n",
      "250/250 [==============================] - 69s 278ms/step - loss: 0.3884 - accuracy: 0.8225 - val_loss: 0.4583 - val_accuracy: 0.7940\n",
      "Epoch 14/25\n",
      "250/250 [==============================] - 69s 277ms/step - loss: 0.3756 - accuracy: 0.8284 - val_loss: 0.4515 - val_accuracy: 0.8010\n",
      "Epoch 15/25\n",
      "250/250 [==============================] - 70s 281ms/step - loss: 0.3711 - accuracy: 0.8357 - val_loss: 0.4408 - val_accuracy: 0.7985\n",
      "Epoch 16/25\n",
      "250/250 [==============================] - 72s 286ms/step - loss: 0.3532 - accuracy: 0.8388 - val_loss: 0.4748 - val_accuracy: 0.7820\n",
      "Epoch 17/25\n",
      "250/250 [==============================] - 69s 277ms/step - loss: 0.3518 - accuracy: 0.8424 - val_loss: 0.4709 - val_accuracy: 0.8010\n",
      "Epoch 18/25\n",
      "250/250 [==============================] - 69s 278ms/step - loss: 0.3341 - accuracy: 0.8520 - val_loss: 0.4846 - val_accuracy: 0.7825\n",
      "Epoch 19/25\n",
      "250/250 [==============================] - 70s 279ms/step - loss: 0.3218 - accuracy: 0.8624 - val_loss: 0.4545 - val_accuracy: 0.8020\n",
      "Epoch 20/25\n",
      "250/250 [==============================] - 69s 275ms/step - loss: 0.3008 - accuracy: 0.8684 - val_loss: 0.4733 - val_accuracy: 0.7900\n",
      "Epoch 21/25\n",
      "250/250 [==============================] - 70s 279ms/step - loss: 0.2976 - accuracy: 0.8692 - val_loss: 0.5060 - val_accuracy: 0.7995\n",
      "Epoch 22/25\n",
      "250/250 [==============================] - 74s 295ms/step - loss: 0.2831 - accuracy: 0.8769 - val_loss: 0.5044 - val_accuracy: 0.7965\n",
      "Epoch 23/25\n",
      "250/250 [==============================] - 68s 274ms/step - loss: 0.2822 - accuracy: 0.8850 - val_loss: 0.4860 - val_accuracy: 0.8015\n",
      "Epoch 24/25\n",
      "250/250 [==============================] - 72s 286ms/step - loss: 0.2652 - accuracy: 0.8907 - val_loss: 0.4806 - val_accuracy: 0.8040\n",
      "Epoch 25/25\n",
      "250/250 [==============================] - 74s 296ms/step - loss: 0.2510 - accuracy: 0.8957 - val_loss: 0.4973 - val_accuracy: 0.8090\n"
     ]
    },
    {
     "data": {
      "text/plain": [
       "<keras.callbacks.History at 0x1f7fb38e1f0>"
      ]
     },
     "execution_count": 13,
     "metadata": {},
     "output_type": "execute_result"
    }
   ],
   "source": [
    "cnn.fit(x = training_set, validation_data = test_set, epochs = 25)"
   ]
  },
  {
   "cell_type": "markdown",
   "id": "81d81fd6",
   "metadata": {},
   "source": [
    "## Part 4 - Making a single prediction"
   ]
  },
  {
   "cell_type": "code",
   "execution_count": 23,
   "id": "5418a904",
   "metadata": {},
   "outputs": [],
   "source": [
    "import numpy as np\n",
    "from tensorflow.keras.preprocessing import image"
   ]
  },
  {
   "cell_type": "code",
   "execution_count": 24,
   "id": "8b33e892",
   "metadata": {},
   "outputs": [
    {
     "name": "stdout",
     "output_type": "stream",
     "text": [
      "1/1 [==============================] - 0s 463ms/step\n"
     ]
    }
   ],
   "source": [
    "test_image = image.load_img ('C:/Users/muska/Downloads/CNN Dataset/single_prediction/cat_or_dog_2.jpg', target_size = (64, 64))\n",
    "test_image = image.img_to_array(test_image)\n",
    "test_image = np.expand_dims(test_image, axis = 0)\n",
    "result = cnn.predict(test_image)\n",
    "training_set.class_indices\n",
    "if result[0][0] == 1:\n",
    "  prediction = 'dog'\n",
    "else:\n",
    "  prediction = 'cat'"
   ]
  },
  {
   "cell_type": "code",
   "execution_count": 25,
   "id": "554b0d00",
   "metadata": {},
   "outputs": [
    {
     "name": "stdout",
     "output_type": "stream",
     "text": [
      "cat\n"
     ]
    }
   ],
   "source": [
    "print(prediction)"
   ]
  },
  {
   "cell_type": "markdown",
   "id": "ce478967",
   "metadata": {},
   "source": [
    "As per the pprediction the choen image was of a cat. "
   ]
  }
 ],
 "metadata": {
  "kernelspec": {
   "display_name": "Python 3",
   "language": "python",
   "name": "python3"
  },
  "language_info": {
   "codemirror_mode": {
    "name": "ipython",
    "version": 3
   },
   "file_extension": ".py",
   "mimetype": "text/x-python",
   "name": "python",
   "nbconvert_exporter": "python",
   "pygments_lexer": "ipython3",
   "version": "3.8.8"
  }
 },
 "nbformat": 4,
 "nbformat_minor": 5
}
